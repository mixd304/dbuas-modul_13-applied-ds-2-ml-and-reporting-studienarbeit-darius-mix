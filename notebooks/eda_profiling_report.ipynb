{
 "cells": [
  {
   "cell_type": "code",
   "execution_count": 1,
   "metadata": {},
   "outputs": [
    {
     "name": "stderr",
     "output_type": "stream",
     "text": [
      "c:\\Dev\\Python\\Anaconda3\\envs\\profiling_report\\Lib\\site-packages\\tqdm\\auto.py:22: TqdmWarning: IProgress not found. Please update jupyter and ipywidgets. See https://ipywidgets.readthedocs.io/en/stable/user_install.html\n",
      "  from .autonotebook import tqdm as notebook_tqdm\n",
      "Summarize dataset: 100%|██████████| 199/199 [00:50<00:00,  3.96it/s, Completed]                         \n",
      "Generate report structure: 100%|██████████| 1/1 [00:21<00:00, 21.10s/it]\n",
      "Render HTML: 100%|██████████| 1/1 [00:21<00:00, 21.35s/it]\n",
      "Export report to file: 100%|██████████| 1/1 [00:00<00:00,  7.51it/s]\n"
     ]
    }
   ],
   "source": [
    "# conda activate profiling_report\n",
    "\n",
    "import os\n",
    "import pandas as pd\n",
    "from ydata_profiling import ProfileReport\n",
    "\n",
    "FILEPATH_2022 = os.path.join(\"..\", \"input\", \"armslengthsales_2022_valid.csv\")\n",
    "df_2022 = pd.read_csv(FILEPATH_2022)\n",
    "df = df_2022\n",
    "\n",
    "profile = ProfileReport(df, title=\"Pandas Profiling Report\", explorative=True)\n",
    "profile.to_file(os.path.join(\"..\", \"output\", \"property-sales-dataset.html\"))"
   ]
  }
 ],
 "metadata": {
  "kernelspec": {
   "display_name": "profiling_report",
   "language": "python",
   "name": "python3"
  },
  "language_info": {
   "codemirror_mode": {
    "name": "ipython",
    "version": 3
   },
   "file_extension": ".py",
   "mimetype": "text/x-python",
   "name": "python",
   "nbconvert_exporter": "python",
   "pygments_lexer": "ipython3",
   "version": "3.11.8"
  }
 },
 "nbformat": 4,
 "nbformat_minor": 2
}
