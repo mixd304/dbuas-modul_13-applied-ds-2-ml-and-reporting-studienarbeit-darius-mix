{
 "cells": [
  {
   "cell_type": "markdown",
   "metadata": {},
   "source": [
    "Dieses Notebook wurde auf dem Environment \"profiling_report\" mit der ydata-profiling Version \"4.1.1\" ausgeführt."
   ]
  },
  {
   "cell_type": "code",
   "execution_count": 2,
   "metadata": {},
   "outputs": [
    {
     "name": "stderr",
     "output_type": "stream",
     "text": [
      "Summarize dataset: 100%|██████████| 199/199 [00:35<00:00,  5.63it/s, Completed]                         \n",
      "Generate report structure: 100%|██████████| 1/1 [00:07<00:00,  7.09s/it]\n",
      "Render HTML: 100%|██████████| 1/1 [00:06<00:00,  6.75s/it]\n",
      "Export report to file: 100%|██████████| 1/1 [00:00<00:00, 14.09it/s]\n"
     ]
    }
   ],
   "source": [
    "import os\n",
    "import pandas as pd\n",
    "from ydata_profiling import ProfileReport\n",
    "\n",
    "FILEPATH = os.path.join(\"..\", \"input\", \"armslengthsales_2022_valid.csv\")\n",
    "df = pd.read_csv(FILEPATH)\n",
    "\n",
    "profile = ProfileReport(df, title=\"Pandas Profiling Report\", explorative=True)\n",
    "profile.to_file(os.path.join(\"..\", \"output\", \"property-sales-dataset.html\"))"
   ]
  }
 ],
 "metadata": {
  "kernelspec": {
   "display_name": "profiling_report",
   "language": "python",
   "name": "python3"
  },
  "language_info": {
   "codemirror_mode": {
    "name": "ipython",
    "version": 3
   },
   "file_extension": ".py",
   "mimetype": "text/x-python",
   "name": "python",
   "nbconvert_exporter": "python",
   "pygments_lexer": "ipython3",
   "version": "3.11.8"
  }
 },
 "nbformat": 4,
 "nbformat_minor": 2
}
