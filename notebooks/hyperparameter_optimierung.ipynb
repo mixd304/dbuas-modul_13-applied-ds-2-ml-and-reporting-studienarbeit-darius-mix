{
 "cells": [
  {
   "cell_type": "markdown",
   "metadata": {},
   "source": [
    "### Modellvorbereitung (siehe ```notebooks/main.ipynb```)"
   ]
  },
  {
   "cell_type": "code",
   "execution_count": 1,
   "metadata": {},
   "outputs": [],
   "source": [
    "import os\n",
    "import pandas as pd\n",
    "import numpy as np\n",
    "np.random.seed(42)\n",
    "\n",
    "from sklearn import set_config\n",
    "from sklearn.compose import ColumnTransformer\n",
    "from sklearn.ensemble import GradientBoostingRegressor, RandomForestRegressor\n",
    "from sklearn.impute import SimpleImputer\n",
    "from sklearn.model_selection import train_test_split, cross_val_score, GridSearchCV\n",
    "from sklearn.metrics import mean_absolute_error, mean_squared_error, mean_absolute_percentage_error\n",
    "from sklearn.neighbors import KNeighborsRegressor\n",
    "from sklearn.pipeline import Pipeline\n",
    "from sklearn.preprocessing import OneHotEncoder, StandardScaler\n",
    "from sklearn.tree import DecisionTreeRegressor\n",
    "\n",
    "FILEPATH = os.path.join(\"..\", \"input\", \"armslengthsales_2022_valid.csv\")\n",
    "df = pd.read_csv(FILEPATH)\n",
    "\n",
    "# dropped features wird nicht verwendet, ist lediglich eine Kennzeichnung der nicht verwendeten Features\n",
    "dropped_features = [\"PropertyID\", \"taxkey\", \"Address\", \"CondoProject\", \"PropType\", \"Style\", \"Sale_date\"]\n",
    "\n",
    "num_features = [\"Stories\", \"Year_Built\", \"FinishedSqft\", \"Units\", \"Fbath\", \"Hbath\", \"Lotsize\", \"Rooms\", \"Bdrms\"]\n",
    "cat_features = [\"District\", \"nbhd\", \"Extwall\"]\n",
    "\n",
    "df['District'] = df['District'].astype(object)\n",
    "df['nbhd'] = df['nbhd'].astype(object)\n",
    "\n",
    "train_data, test_data = train_test_split(df, test_size=0.2, random_state=42)\n",
    "\n",
    "y = [\"Sale_price\"]\n",
    "X = [*num_features, *cat_features]\n",
    "\n",
    "set_config(transform_output=\"pandas\")\n",
    "\n",
    "num_transformer = Pipeline(steps=[\n",
    "    ('imputer', SimpleImputer(strategy='mean')),\n",
    "    ('scaler', StandardScaler()),\n",
    "])\n",
    "\n",
    "cat_transformer = Pipeline(steps=[\n",
    "    ('imputer', SimpleImputer(strategy='most_frequent')),\n",
    "    ('onehot', OneHotEncoder(sparse_output=False, handle_unknown='ignore')),\n",
    "])\n",
    "\n",
    "prep = ColumnTransformer(\n",
    "    remainder=\"drop\",\n",
    "    transformers=[\n",
    "        (\"num\", num_transformer, num_features),\n",
    "        (\"cat\", cat_transformer, cat_features),\n",
    "    ],\n",
    ")\n",
    "\n",
    "prep_transformed = prep.fit_transform(X=train_data[X])"
   ]
  },
  {
   "cell_type": "markdown",
   "metadata": {},
   "source": [
    "## Hyperparameter-Optimierung"
   ]
  },
  {
   "cell_type": "markdown",
   "metadata": {},
   "source": [
    "Die verwendeteten Parameter für die Optimierung wurden mithilfe von ChatGPT3.5 generiert (siehe https://chat.openai.com/share/2664e409-ecb3-4b6f-a98b-0f58d83d97c4)."
   ]
  },
  {
   "cell_type": "code",
   "execution_count": 4,
   "metadata": {},
   "outputs": [
    {
     "name": "stdout",
     "output_type": "stream",
     "text": [
      "Avg. Price on Training 277506.43614415673\n",
      "Avg. Price on Test 247715.75804195803\n"
     ]
    }
   ],
   "source": [
    "models = [\n",
    "    ('Decision Tree', DecisionTreeRegressor(random_state=42), {\n",
    "        'model__max_depth': [None, 5, 10, 20],\n",
    "        'model__min_samples_split': [2, 5, 10],\n",
    "        'model__min_samples_leaf': [1, 2, 4]\n",
    "    }),\n",
    "    ('Random Forest', RandomForestRegressor(random_state=42), {\n",
    "        'model__n_estimators': [50, 100, 200],\n",
    "        'model__max_depth': [None, 5, 10, 20],\n",
    "        'model__min_samples_split': [2, 5, 10],\n",
    "        'model__min_samples_leaf': [1, 2, 4]\n",
    "    }),\n",
    "    ('Gradient Boosting', GradientBoostingRegressor(random_state=42), {\n",
    "        'model__n_estimators': [50, 100, 200],\n",
    "        'model__learning_rate': [0.05, 0.1, 0.2],\n",
    "        'model__max_depth': [3, 5, 7],\n",
    "        'model__min_samples_split': [2, 5, 10],\n",
    "        'model__min_samples_leaf': [1, 2, 4]\n",
    "    }),\n",
    "    ('K-nearest Neighbors', KNeighborsRegressor(), {\n",
    "        'model__n_neighbors': [3, 5, 7, 9],\n",
    "        'model__weights': ['uniform', 'distance'],\n",
    "        'model__algorithm': ['auto', 'ball_tree', 'kd_tree', 'brute']\n",
    "    })\n",
    "]\n",
    "\n",
    "print(\"Avg. Price on Training\", train_data[y].mean().iloc[0])\n",
    "print(\"Avg. Price on Test\", test_data[y].mean().iloc[0])"
   ]
  },
  {
   "cell_type": "code",
   "execution_count": 5,
   "metadata": {},
   "outputs": [
    {
     "name": "stdout",
     "output_type": "stream",
     "text": [
      "======  Decision Tree  ======\n",
      "Best parameters: {'model__max_depth': 20, 'model__min_samples_leaf': 4, 'model__min_samples_split': 2}\n",
      "Cross validation [0.07930417 0.71967379 0.76169902 0.20610311 0.63742624]\n",
      "R2: 0.48084126630161333\n",
      "MAE: 63315.077784031455\n",
      "MSE: 33812075294.57129\n",
      "\n",
      "======  Random Forest  ======\n",
      "Best parameters: {'model__max_depth': None, 'model__min_samples_leaf': 1, 'model__min_samples_split': 5, 'model__n_estimators': 50}\n",
      "Cross validation [0.68808391 0.72217775 0.77652767 0.62274344 0.72100665]\n",
      "R2: 0.7061078823636509\n",
      "MAE: 53032.778400284034\n",
      "MSE: 31029408445.659473\n",
      "\n",
      "======  Gradient Boosting  ======\n",
      "Best parameters: {'model__learning_rate': 0.1, 'model__max_depth': 7, 'model__min_samples_leaf': 1, 'model__min_samples_split': 10, 'model__n_estimators': 200}\n",
      "Cross validation [0.63614934 0.78655215 0.80430033 0.42438778 0.83861228]\n",
      "R2: 0.6980003747936694\n",
      "MAE: 53177.88278485768\n",
      "MSE: 29089438962.616226\n",
      "\n",
      "======  K-nearest Neighbors  ======\n",
      "Best parameters: {'model__algorithm': 'ball_tree', 'model__n_neighbors': 9, 'model__weights': 'distance'}\n",
      "Cross validation [0.73887547 0.61095805 0.72481514 0.31228257 0.58628357]\n",
      "R2: 0.5946429626428975\n",
      "MAE: 66082.68544688755\n",
      "MSE: 67937517979.44637\n",
      "\n"
     ]
    }
   ],
   "source": [
    "for name, model, parameters in models:\n",
    "    pipe = Pipeline(steps=[\n",
    "        ('preprocessor', prep),\n",
    "        ('model', model)\n",
    "    ])\n",
    "\n",
    "    y_train = train_data[y].values.ravel()\n",
    "    y_test = test_data[y].values.ravel()\n",
    "\n",
    "    grid_search = GridSearchCV(estimator=pipe, param_grid=parameters, cv=5, n_jobs=-1)\n",
    "    grid_search.fit(X=train_data[X], y=y_train)\n",
    "\n",
    "    cv = cross_val_score(estimator=grid_search.best_estimator_, X=train_data[X], y=y_train, cv=5, n_jobs=-1)\n",
    "\n",
    "    print(\"====== \", name, \" ======\")\n",
    "    print(\"Best parameters:\", grid_search.best_params_)\n",
    "    print(\"Cross validation\", cv)\n",
    "    print(\" MAE (Train):\", round(mean_absolute_error(y_true=y_train, y_pred=grid_search.predict(train_data[X])), 2))\n",
    "    print(\"MAPE (Train):\", round(mean_absolute_percentage_error(y_true=y_train, y_pred=grid_search.predict(train_data[X])) * 100, 2), \"%\")\n",
    "    print(\" MAE (Test) :\", round(mean_absolute_error(y_true=y_test, y_pred=grid_search.predict(test_data[X])), 2))\n",
    "    print(\"MAPE (Test) :\", round(mean_absolute_percentage_error(y_true=y_test, y_pred=grid_search.predict(test_data[X])) * 100, 2), \"%\")\n",
    "    print(\"RMSE (Test) :\", round(np.sqrt(mean_squared_error(y_true=y_test, y_pred=grid_search.predict(test_data[X]))), 2))\n",
    "    print(\"  R2 (Test) :\", round(grid_search.best_score_), 2)\n",
    "    print()"
   ]
  }
 ],
 "metadata": {
  "kernelspec": {
   "display_name": "dbuas-ads-2-ml-and-reporting-studienarbeit-dariusmix",
   "language": "python",
   "name": "python3"
  },
  "language_info": {
   "codemirror_mode": {
    "name": "ipython",
    "version": 3
   },
   "file_extension": ".py",
   "mimetype": "text/x-python",
   "name": "python",
   "nbconvert_exporter": "python",
   "pygments_lexer": "ipython3",
   "version": "3.11.8"
  }
 },
 "nbformat": 4,
 "nbformat_minor": 2
}
