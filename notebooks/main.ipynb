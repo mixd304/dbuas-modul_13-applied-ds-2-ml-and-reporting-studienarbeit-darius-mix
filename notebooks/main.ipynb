{
 "cells": [
  {
   "cell_type": "code",
   "execution_count": null,
   "metadata": {},
   "outputs": [],
   "source": [
    "import os\n",
    "import pandas as pd\n",
    "import numpy as np\n",
    "\n",
    "from ydata_profiling import ProfileReport\n",
    "\n",
    "import seaborn as sns\n",
    "import matplotlib.pyplot as plt\n",
    "import matplotlib.dates as mdates\n",
    "%matplotlib inline\n",
    "\n",
    "import xgboost as xgb"
   ]
  },
  {
   "cell_type": "markdown",
   "metadata": {},
   "source": [
    "## Datenimport\n",
    "Quelle der Daten: https://data.milwaukee.gov/dataset/property-sales-data"
   ]
  },
  {
   "cell_type": "code",
   "execution_count": null,
   "metadata": {},
   "outputs": [],
   "source": [
    "FILEPATH_2020 = os.path.join(\"..\", \"input\", \"armslengthsales_2020_valid.csv\")\n",
    "FILEPATH_2021 = os.path.join(\"..\", \"input\", \"armslengthsales_2021_valid.csv\")\n",
    "FILEPATH_2022 = os.path.join(\"..\", \"input\", \"armslengthsales_2022_valid.csv\")"
   ]
  },
  {
   "cell_type": "code",
   "execution_count": null,
   "metadata": {},
   "outputs": [],
   "source": [
    "df_2020 = pd.read_csv(FILEPATH_2020)\n",
    "df_2021 = pd.read_csv(FILEPATH_2021)\n",
    "df_2022 = pd.read_csv(FILEPATH_2022)"
   ]
  },
  {
   "cell_type": "code",
   "execution_count": null,
   "metadata": {},
   "outputs": [],
   "source": [
    "#df = pd.concat([df_2020, df_2021, df_2022])\n",
    "df = df_2022"
   ]
  },
  {
   "cell_type": "markdown",
   "metadata": {},
   "source": [
    "## Datenaufbereitung"
   ]
  },
  {
   "cell_type": "code",
   "execution_count": null,
   "metadata": {},
   "outputs": [],
   "source": []
  }
 ],
 "metadata": {
  "kernelspec": {
   "display_name": "dbuas-ads-2-ml-and-reporting-studienarbeit-dariusmix",
   "language": "python",
   "name": "python3"
  },
  "language_info": {
   "name": "python",
   "version": "3.9.18"
  }
 },
 "nbformat": 4,
 "nbformat_minor": 2
}
