{
 "cells": [
  {
   "cell_type": "code",
   "execution_count": 1,
   "metadata": {},
   "outputs": [],
   "source": [
    "import os\n",
    "import pandas as pd\n",
    "import numpy as np\n",
    "\n",
    "import seaborn as sns\n",
    "import matplotlib.pyplot as plt\n",
    "import matplotlib.dates as mdates\n",
    "%matplotlib inline\n",
    "\n",
    "from sklearn.model_selection import train_test_split\n",
    "\n",
    "import xgboost as xgb"
   ]
  },
  {
   "cell_type": "markdown",
   "metadata": {},
   "source": [
    "## Datenimport\n",
    "Quelle der Daten: https://data.milwaukee.gov/dataset/property-sales-data"
   ]
  },
  {
   "cell_type": "code",
   "execution_count": null,
   "metadata": {},
   "outputs": [],
   "source": [
    "FILEPATH_2020 = os.path.join(\"..\", \"input\", \"armslengthsales_2020_valid.csv\")\n",
    "FILEPATH_2021 = os.path.join(\"..\", \"input\", \"armslengthsales_2021_valid.csv\")\n",
    "FILEPATH_2022 = os.path.join(\"..\", \"input\", \"armslengthsales_2022_valid.csv\")"
   ]
  },
  {
   "cell_type": "code",
   "execution_count": null,
   "metadata": {},
   "outputs": [],
   "source": [
    "df_2020 = pd.read_csv(FILEPATH_2020)\n",
    "df_2021 = pd.read_csv(FILEPATH_2021)\n",
    "df_2022 = pd.read_csv(FILEPATH_2022)"
   ]
  },
  {
   "cell_type": "code",
   "execution_count": null,
   "metadata": {},
   "outputs": [],
   "source": [
    "#df = pd.concat([df_2020, df_2021, df_2022])\n",
    "df = df_2022"
   ]
  },
  {
   "cell_type": "markdown",
   "metadata": {},
   "source": [
    "## Datenaufbereitung"
   ]
  },
  {
   "cell_type": "code",
   "execution_count": null,
   "metadata": {},
   "outputs": [],
   "source": [
    "train_data, test_data = train_test_split(\n",
    "    df, test_size=0.2, random_state=42\n",
    ")"
   ]
  },
  {
   "cell_type": "code",
   "execution_count": null,
   "metadata": {},
   "outputs": [],
   "source": [
    "train_dist = pd.DataFrame(train_data[\"gattung\"].value_counts() / len(train_data))\n",
    "train_dist.columns = [\"gattung_train_perc\"]\n",
    "\n",
    "test_dist = pd.DataFrame(test_data[\"gattung\"].value_counts() / len(test_data))\n",
    "test_dist.columns = [\"gattung_test_perc\"]\n",
    "\n",
    "dist = train_dist.merge(test_dist, left_index=True, right_index=True)\n",
    "dist[\"diff\"] = (dist[\"gattung_train_perc\"] - dist[\"gattung_test_perc\"]).abs()\n",
    "\n",
    "dist.sort_values(by=\"gattung_train_perc\", ascending=False)[:20]"
   ]
  },
  {
   "cell_type": "code",
   "execution_count": null,
   "metadata": {},
   "outputs": [],
   "source": [
    "train_data, test_data = train_test_split(\n",
    "    df, test_size=0.2, random_state=42, stratify=df[\"xxx\"]\n",
    ")"
   ]
  }
 ],
 "metadata": {
  "kernelspec": {
   "display_name": "dbuas-ads-2-ml-and-reporting-studienarbeit-dariusmix",
   "language": "python",
   "name": "python3"
  },
  "language_info": {
   "codemirror_mode": {
    "name": "ipython",
    "version": 3
   },
   "file_extension": ".py",
   "mimetype": "text/x-python",
   "name": "python",
   "nbconvert_exporter": "python",
   "pygments_lexer": "ipython3",
   "version": "3.11.8"
  }
 },
 "nbformat": 4,
 "nbformat_minor": 2
}
