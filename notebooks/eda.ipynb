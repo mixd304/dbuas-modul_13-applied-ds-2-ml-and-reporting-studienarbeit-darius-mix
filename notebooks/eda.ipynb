{
 "cells": [
  {
   "cell_type": "code",
   "execution_count": 1,
   "metadata": {},
   "outputs": [],
   "source": [
    "import os\n",
    "import pandas as pd\n",
    "import numpy as np\n",
    "\n",
    "import seaborn as sns\n",
    "import matplotlib.pyplot as plt\n",
    "import matplotlib.dates as mdates\n",
    "%matplotlib inline"
   ]
  },
  {
   "cell_type": "markdown",
   "metadata": {},
   "source": [
    "## Datenimport\n",
    "Quelle der Daten: https://data.milwaukee.gov/dataset/property-sales-data"
   ]
  },
  {
   "cell_type": "code",
   "execution_count": 2,
   "metadata": {},
   "outputs": [],
   "source": [
    "FILEPATH_2020 = os.path.join(\"..\", \"input\", \"armslengthsales_2020_valid.csv\")\n",
    "FILEPATH_2021 = os.path.join(\"..\", \"input\", \"armslengthsales_2021_valid.csv\")\n",
    "FILEPATH_2022 = os.path.join(\"..\", \"input\", \"armslengthsales_2022_valid.csv\")"
   ]
  },
  {
   "cell_type": "code",
   "execution_count": 3,
   "metadata": {},
   "outputs": [],
   "source": [
    "df_2020 = pd.read_csv(FILEPATH_2020)\n",
    "df_2021 = pd.read_csv(FILEPATH_2021)\n",
    "df_2022 = pd.read_csv(FILEPATH_2022)"
   ]
  },
  {
   "cell_type": "code",
   "execution_count": 4,
   "metadata": {},
   "outputs": [],
   "source": [
    "#df = pd.concat([df_2020, df_2021, df_2022])\n",
    "df = df_2022"
   ]
  },
  {
   "cell_type": "markdown",
   "metadata": {},
   "source": [
    "## EDA"
   ]
  },
  {
   "cell_type": "markdown",
   "metadata": {},
   "source": [
    "### Beschreibung und Analyse des Datensatzes\n",
    "Der Datensatz beinhaltet Verkaufsdaten über Wohnhäuser, Eigentumswohnungen, Gewerbeimmobilien, Apartments und unbebaute Grundstücke. <br>\n",
    "<br>\n",
    "7146 Zeilen<br>\n",
    "8168 fehlende Werte<br>\n",
    "20 Variablen\n",
    "\n",
    "```PropertyID``` - Enthält die eindeutige ID der Immobilie  \n",
    "```PropType``` - Enthält den Typ der Immobilie - 6 verschiedene mit Anteil in %: 81,4% Residential (Wohnimmobilien), 13% Condominium (Eigentumswohnungen), 3% Large Apartment (Große Wohnungen), 2,6% Commercial (Gewerbeimmobilien), <0,1% Manufacturing (Produktionsstätten), <0,1% Exempt (Andere)  \n",
    "```taxkey``` - Enthält die eindeutige Steuerliche Kennung der Immobilie  \n",
    "```Address``` - Enthält die Adresse der Immobilie  \n",
    "```CondoProject``` - Nur für Condominium (Eigentumswohnungen) relevant - enthält einen Projektnamen  \n",
    "```District``` - Nummer des Districts (Stadtteil) von Milwaukee  \n",
    "```nbhd``` - Nummer der \"Nachbarschaft\" - vermutlich eine detaillierte Einteilung der Districts  \n",
    "```Style``` - Enthält die \"Art\" der Immobilie wie Ranch, Townhouse und Medical Clinic  \n",
    "```Extwall``` - Beschreibt die Außenverkleidung der Immobilie wie Aluminium/Vinyl, Wood (Holz) oder Bricks (Ziegel)  \n",
    "```Stories```- Enthält die Anzahl der Stockwerke der Immobilie  \n",
    "```Year_Built``` - Enthält das Baujahr der Immobilie  \n",
    "```Rooms``` - Enthält die Anzahl der Räume der Immobilie  \n",
    "```FinishedSqft``` - Beschreibt die Gesamtfläche in Quadrratfuß der Immobilie an 1 Quardratfuß = 0,092903 Quadratmeter  \n",
    "```Units``` - Enthält die Anzahl an Wohneineinheiten der Immobilie  \n",
    "```Bdrms``` - Enthält die Anzahl an Schlafzimmern der Immobilie  \n",
    "```Fbath``` - Enthält die Anzahl an \"Vollbädern\" (Badezimmer mit Badewanne/Dusche) der Immobilie  \n",
    "```Hbath``` - Enthält die Anzahl an \"Halbbädern\" (Badezimmer ohne Badewanne/Dusche) der Immobilie  \n",
    "```Lotsize``` - Enthält die Größe des Grundstücks, auf dem die Immobilie steht\n",
    "```Sale_date``` - Enthält das Datum, an dem die Immobilie verkauft wurde\n",
    "```Sale_prize```"
   ]
  },
  {
   "cell_type": "markdown",
   "metadata": {},
   "source": [
    "### Fehlende Werte prüfen und entfernen"
   ]
  },
  {
   "cell_type": "code",
   "execution_count": 5,
   "metadata": {},
   "outputs": [],
   "source": [
    "# Entfernen der irrelevanten Spalten\n",
    "df.drop('PropertyID', axis=1, inplace=True)\n",
    "df.drop('taxkey', axis=1, inplace=True)\n",
    "df.drop('Address', axis=1, inplace=True)\n",
    "df.drop('CondoProject', axis=1, inplace=True)"
   ]
  },
  {
   "cell_type": "code",
   "execution_count": 8,
   "metadata": {},
   "outputs": [
    {
     "name": "stdout",
     "output_type": "stream",
     "text": [
      "<class 'pandas.core.frame.DataFrame'>\n",
      "RangeIndex: 7146 entries, 0 to 7145\n",
      "Data columns (total 16 columns):\n",
      " #   Column        Non-Null Count  Dtype  \n",
      "---  ------        --------------  -----  \n",
      " 0   PropType      7146 non-null   object \n",
      " 1   District      7146 non-null   int64  \n",
      " 2   nbhd          7146 non-null   int64  \n",
      " 3   Style         7125 non-null   object \n",
      " 4   Extwall       6220 non-null   object \n",
      " 5   Stories       7107 non-null   float64\n",
      " 6   Year_Built    7135 non-null   float64\n",
      " 7   Rooms         6703 non-null   float64\n",
      " 8   FinishedSqft  7122 non-null   float64\n",
      " 9   Units         7146 non-null   int64  \n",
      " 10  Bdrms         6703 non-null   float64\n",
      " 11  Fbath         7146 non-null   int64  \n",
      " 12  Hbath         7146 non-null   int64  \n",
      " 13  Lotsize       7146 non-null   int64  \n",
      " 14  Sale_date     7146 non-null   object \n",
      " 15  Sale_price    7146 non-null   float64\n",
      "dtypes: float64(6), int64(6), object(4)\n",
      "memory usage: 893.4+ KB\n"
     ]
    }
   ],
   "source": [
    "df.info()"
   ]
  },
  {
   "cell_type": "code",
   "execution_count": 12,
   "metadata": {},
   "outputs": [
    {
     "data": {
      "text/plain": [
       "PropType           6\n",
       "District          15\n",
       "nbhd             459\n",
       "Style             81\n",
       "Extwall           18\n",
       "Stories           13\n",
       "Year_Built       155\n",
       "Rooms             40\n",
       "FinishedSqft    2386\n",
       "Units             49\n",
       "Bdrms             24\n",
       "Fbath              8\n",
       "Hbath              4\n",
       "Lotsize         1670\n",
       "Sale_date        313\n",
       "Sale_price      1284\n",
       "dtype: int64"
      ]
     },
     "execution_count": 12,
     "metadata": {},
     "output_type": "execute_result"
    }
   ],
   "source": [
    "df.nunique()"
   ]
  },
  {
   "cell_type": "code",
   "execution_count": 13,
   "metadata": {},
   "outputs": [
    {
     "data": {
      "text/plain": [
       "PropType          0\n",
       "District          0\n",
       "nbhd              0\n",
       "Style            21\n",
       "Extwall         926\n",
       "Stories          39\n",
       "Year_Built       11\n",
       "Rooms           443\n",
       "FinishedSqft     24\n",
       "Units             0\n",
       "Bdrms           443\n",
       "Fbath             0\n",
       "Hbath             0\n",
       "Lotsize           0\n",
       "Sale_date         0\n",
       "Sale_price        0\n",
       "dtype: int64"
      ]
     },
     "execution_count": 13,
     "metadata": {},
     "output_type": "execute_result"
    }
   ],
   "source": [
    "df.isna().sum()"
   ]
  },
  {
   "cell_type": "code",
   "execution_count": 14,
   "metadata": {},
   "outputs": [
    {
     "data": {
      "text/plain": [
       "PropType        0.000000\n",
       "District        0.000000\n",
       "nbhd            0.000000\n",
       "Style           0.002939\n",
       "Extwall         0.129583\n",
       "Stories         0.005458\n",
       "Year_Built      0.001539\n",
       "Rooms           0.061993\n",
       "FinishedSqft    0.003359\n",
       "Units           0.000000\n",
       "Bdrms           0.061993\n",
       "Fbath           0.000000\n",
       "Hbath           0.000000\n",
       "Lotsize         0.000000\n",
       "Sale_date       0.000000\n",
       "Sale_price      0.000000\n",
       "dtype: float64"
      ]
     },
     "execution_count": 14,
     "metadata": {},
     "output_type": "execute_result"
    }
   ],
   "source": [
    "df.isna().sum() / df.isna().count()"
   ]
  },
  {
   "cell_type": "code",
   "execution_count": 16,
   "metadata": {},
   "outputs": [
    {
     "data": {
      "text/html": [
       "<div>\n",
       "<style scoped>\n",
       "    .dataframe tbody tr th:only-of-type {\n",
       "        vertical-align: middle;\n",
       "    }\n",
       "\n",
       "    .dataframe tbody tr th {\n",
       "        vertical-align: top;\n",
       "    }\n",
       "\n",
       "    .dataframe thead th {\n",
       "        text-align: right;\n",
       "    }\n",
       "</style>\n",
       "<table border=\"1\" class=\"dataframe\">\n",
       "  <thead>\n",
       "    <tr style=\"text-align: right;\">\n",
       "      <th></th>\n",
       "      <th>District</th>\n",
       "      <th>nbhd</th>\n",
       "      <th>Stories</th>\n",
       "      <th>Year_Built</th>\n",
       "      <th>Rooms</th>\n",
       "      <th>FinishedSqft</th>\n",
       "      <th>Units</th>\n",
       "      <th>Bdrms</th>\n",
       "      <th>Fbath</th>\n",
       "      <th>Hbath</th>\n",
       "      <th>Lotsize</th>\n",
       "      <th>Sale_price</th>\n",
       "    </tr>\n",
       "  </thead>\n",
       "  <tbody>\n",
       "    <tr>\n",
       "      <th>District</th>\n",
       "      <td>1.00</td>\n",
       "      <td>0.35</td>\n",
       "      <td>0.04</td>\n",
       "      <td>-0.06</td>\n",
       "      <td>0.07</td>\n",
       "      <td>0.00</td>\n",
       "      <td>-0.01</td>\n",
       "      <td>0.06</td>\n",
       "      <td>-0.00</td>\n",
       "      <td>0.01</td>\n",
       "      <td>0.01</td>\n",
       "      <td>0.00</td>\n",
       "    </tr>\n",
       "    <tr>\n",
       "      <th>nbhd</th>\n",
       "      <td>0.35</td>\n",
       "      <td>1.00</td>\n",
       "      <td>0.15</td>\n",
       "      <td>0.00</td>\n",
       "      <td>-0.16</td>\n",
       "      <td>0.17</td>\n",
       "      <td>0.09</td>\n",
       "      <td>-0.19</td>\n",
       "      <td>-0.25</td>\n",
       "      <td>-0.11</td>\n",
       "      <td>0.01</td>\n",
       "      <td>0.19</td>\n",
       "    </tr>\n",
       "    <tr>\n",
       "      <th>Stories</th>\n",
       "      <td>0.04</td>\n",
       "      <td>0.15</td>\n",
       "      <td>1.00</td>\n",
       "      <td>0.09</td>\n",
       "      <td>0.34</td>\n",
       "      <td>0.34</td>\n",
       "      <td>0.32</td>\n",
       "      <td>0.30</td>\n",
       "      <td>0.17</td>\n",
       "      <td>0.08</td>\n",
       "      <td>0.00</td>\n",
       "      <td>0.28</td>\n",
       "    </tr>\n",
       "    <tr>\n",
       "      <th>Year_Built</th>\n",
       "      <td>-0.06</td>\n",
       "      <td>0.00</td>\n",
       "      <td>0.09</td>\n",
       "      <td>1.00</td>\n",
       "      <td>-0.27</td>\n",
       "      <td>0.03</td>\n",
       "      <td>0.01</td>\n",
       "      <td>-0.20</td>\n",
       "      <td>0.07</td>\n",
       "      <td>0.09</td>\n",
       "      <td>0.01</td>\n",
       "      <td>0.04</td>\n",
       "    </tr>\n",
       "    <tr>\n",
       "      <th>Rooms</th>\n",
       "      <td>0.07</td>\n",
       "      <td>-0.16</td>\n",
       "      <td>0.34</td>\n",
       "      <td>-0.27</td>\n",
       "      <td>1.00</td>\n",
       "      <td>0.32</td>\n",
       "      <td>0.23</td>\n",
       "      <td>0.88</td>\n",
       "      <td>0.46</td>\n",
       "      <td>0.00</td>\n",
       "      <td>0.06</td>\n",
       "      <td>0.00</td>\n",
       "    </tr>\n",
       "    <tr>\n",
       "      <th>FinishedSqft</th>\n",
       "      <td>0.00</td>\n",
       "      <td>0.17</td>\n",
       "      <td>0.34</td>\n",
       "      <td>0.03</td>\n",
       "      <td>0.32</td>\n",
       "      <td>1.00</td>\n",
       "      <td>0.54</td>\n",
       "      <td>0.39</td>\n",
       "      <td>-0.15</td>\n",
       "      <td>-0.05</td>\n",
       "      <td>0.62</td>\n",
       "      <td>0.81</td>\n",
       "    </tr>\n",
       "    <tr>\n",
       "      <th>Units</th>\n",
       "      <td>-0.01</td>\n",
       "      <td>0.09</td>\n",
       "      <td>0.32</td>\n",
       "      <td>0.01</td>\n",
       "      <td>0.23</td>\n",
       "      <td>0.54</td>\n",
       "      <td>1.00</td>\n",
       "      <td>0.27</td>\n",
       "      <td>-0.09</td>\n",
       "      <td>-0.04</td>\n",
       "      <td>0.06</td>\n",
       "      <td>0.55</td>\n",
       "    </tr>\n",
       "    <tr>\n",
       "      <th>Bdrms</th>\n",
       "      <td>0.06</td>\n",
       "      <td>-0.19</td>\n",
       "      <td>0.30</td>\n",
       "      <td>-0.20</td>\n",
       "      <td>0.88</td>\n",
       "      <td>0.39</td>\n",
       "      <td>0.27</td>\n",
       "      <td>1.00</td>\n",
       "      <td>0.36</td>\n",
       "      <td>0.04</td>\n",
       "      <td>0.11</td>\n",
       "      <td>0.02</td>\n",
       "    </tr>\n",
       "    <tr>\n",
       "      <th>Fbath</th>\n",
       "      <td>-0.00</td>\n",
       "      <td>-0.25</td>\n",
       "      <td>0.17</td>\n",
       "      <td>0.07</td>\n",
       "      <td>0.46</td>\n",
       "      <td>-0.15</td>\n",
       "      <td>-0.09</td>\n",
       "      <td>0.36</td>\n",
       "      <td>1.00</td>\n",
       "      <td>-0.03</td>\n",
       "      <td>-0.11</td>\n",
       "      <td>-0.12</td>\n",
       "    </tr>\n",
       "    <tr>\n",
       "      <th>Hbath</th>\n",
       "      <td>0.01</td>\n",
       "      <td>-0.11</td>\n",
       "      <td>0.08</td>\n",
       "      <td>0.09</td>\n",
       "      <td>0.00</td>\n",
       "      <td>-0.05</td>\n",
       "      <td>-0.04</td>\n",
       "      <td>0.04</td>\n",
       "      <td>-0.03</td>\n",
       "      <td>1.00</td>\n",
       "      <td>-0.01</td>\n",
       "      <td>-0.02</td>\n",
       "    </tr>\n",
       "    <tr>\n",
       "      <th>Lotsize</th>\n",
       "      <td>0.01</td>\n",
       "      <td>0.01</td>\n",
       "      <td>0.00</td>\n",
       "      <td>0.01</td>\n",
       "      <td>0.06</td>\n",
       "      <td>0.62</td>\n",
       "      <td>0.06</td>\n",
       "      <td>0.11</td>\n",
       "      <td>-0.11</td>\n",
       "      <td>-0.01</td>\n",
       "      <td>1.00</td>\n",
       "      <td>0.42</td>\n",
       "    </tr>\n",
       "    <tr>\n",
       "      <th>Sale_price</th>\n",
       "      <td>0.00</td>\n",
       "      <td>0.19</td>\n",
       "      <td>0.28</td>\n",
       "      <td>0.04</td>\n",
       "      <td>0.00</td>\n",
       "      <td>0.81</td>\n",
       "      <td>0.55</td>\n",
       "      <td>0.02</td>\n",
       "      <td>-0.12</td>\n",
       "      <td>-0.02</td>\n",
       "      <td>0.42</td>\n",
       "      <td>1.00</td>\n",
       "    </tr>\n",
       "  </tbody>\n",
       "</table>\n",
       "</div>"
      ],
      "text/plain": [
       "              District  nbhd  Stories  Year_Built  Rooms  FinishedSqft  Units  \\\n",
       "District          1.00  0.35     0.04       -0.06   0.07          0.00  -0.01   \n",
       "nbhd              0.35  1.00     0.15        0.00  -0.16          0.17   0.09   \n",
       "Stories           0.04  0.15     1.00        0.09   0.34          0.34   0.32   \n",
       "Year_Built       -0.06  0.00     0.09        1.00  -0.27          0.03   0.01   \n",
       "Rooms             0.07 -0.16     0.34       -0.27   1.00          0.32   0.23   \n",
       "FinishedSqft      0.00  0.17     0.34        0.03   0.32          1.00   0.54   \n",
       "Units            -0.01  0.09     0.32        0.01   0.23          0.54   1.00   \n",
       "Bdrms             0.06 -0.19     0.30       -0.20   0.88          0.39   0.27   \n",
       "Fbath            -0.00 -0.25     0.17        0.07   0.46         -0.15  -0.09   \n",
       "Hbath             0.01 -0.11     0.08        0.09   0.00         -0.05  -0.04   \n",
       "Lotsize           0.01  0.01     0.00        0.01   0.06          0.62   0.06   \n",
       "Sale_price        0.00  0.19     0.28        0.04   0.00          0.81   0.55   \n",
       "\n",
       "              Bdrms  Fbath  Hbath  Lotsize  Sale_price  \n",
       "District       0.06  -0.00   0.01     0.01        0.00  \n",
       "nbhd          -0.19  -0.25  -0.11     0.01        0.19  \n",
       "Stories        0.30   0.17   0.08     0.00        0.28  \n",
       "Year_Built    -0.20   0.07   0.09     0.01        0.04  \n",
       "Rooms          0.88   0.46   0.00     0.06        0.00  \n",
       "FinishedSqft   0.39  -0.15  -0.05     0.62        0.81  \n",
       "Units          0.27  -0.09  -0.04     0.06        0.55  \n",
       "Bdrms          1.00   0.36   0.04     0.11        0.02  \n",
       "Fbath          0.36   1.00  -0.03    -0.11       -0.12  \n",
       "Hbath          0.04  -0.03   1.00    -0.01       -0.02  \n",
       "Lotsize        0.11  -0.11  -0.01     1.00        0.42  \n",
       "Sale_price     0.02  -0.12  -0.02     0.42        1.00  "
      ]
     },
     "execution_count": 16,
     "metadata": {},
     "output_type": "execute_result"
    }
   ],
   "source": [
    "corr = df.select_dtypes(exclude=[\"object\"]).corr().round(2)\n",
    "corr"
   ]
  },
  {
   "cell_type": "code",
   "execution_count": null,
   "metadata": {},
   "outputs": [],
   "source": [
    "fig, ax = plt.subplots()\n",
    "ax.imshow(corr, cmap=plt.get_cmap(\"copper_r\"))\n",
    "ax.set_xticks(np.arange(len(corr)), labels=corr.columns.to_list())\n",
    "ax.set_yticks(np.arange(len(corr)), labels=corr.columns.to_list())\n",
    "plt.setp(ax.get_xticklabels(), rotation=45, ha=\"right\", rotation_mode=\"anchor\")\n",
    "\n",
    "for i in range(len(corr)):\n",
    "    for j in range(len(corr)):\n",
    "        text = ax.text(j, i, corr.iloc[i, j], ha=\"center\", va=\"center\", color=\"w\")\n",
    "\n",
    "ax.set_title(\"Korrelationsmatrix\")\n",
    "plt.show()"
   ]
  },
  {
   "cell_type": "markdown",
   "metadata": {},
   "source": [
    "### Hinzufügen neuer zeitlicher Variablen"
   ]
  },
  {
   "cell_type": "code",
   "execution_count": 43,
   "metadata": {},
   "outputs": [],
   "source": [
    "# Ersetzen des index durch die Spalte 'Sale_date'\n",
    "df.set_index('Sale_date', inplace=True)\n",
    "\n",
    "# Umwandeln des Datums in den Datentyp 'DatetimeIndex' \n",
    "df.index = pd.DatetimeIndex(df.index)\n",
    "\n",
    "# Hinzufügen zeitlicher Variablen (Jahr, Monat, Tag und Kalenderwoche und das Datum erneut als Spalte)\n",
    "df['Year'] = df.index.year\n",
    "df['Month'] = df.index.month\n",
    "df['Day'] = df.index.day\n",
    "df['WeekOfYear'] = df.index.isocalendar().week\n",
    "df['Sale_date'] = pd.to_datetime(df[['Year', 'Month', 'Day']])"
   ]
  }
 ],
 "metadata": {
  "kernelspec": {
   "display_name": "dbuas-applied-ds-2-ml-and-reporting-studienarbeit-dariusmix",
   "language": "python",
   "name": "python3"
  },
  "language_info": {
   "codemirror_mode": {
    "name": "ipython",
    "version": 3
   },
   "file_extension": ".py",
   "mimetype": "text/x-python",
   "name": "python",
   "nbconvert_exporter": "python",
   "pygments_lexer": "ipython3",
   "version": "3.11.8"
  }
 },
 "nbformat": 4,
 "nbformat_minor": 2
}
