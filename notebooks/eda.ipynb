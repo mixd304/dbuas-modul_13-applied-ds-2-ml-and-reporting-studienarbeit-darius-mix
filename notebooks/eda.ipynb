{
 "cells": [
  {
   "cell_type": "code",
   "execution_count": 1,
   "metadata": {},
   "outputs": [],
   "source": [
    "import os\n",
    "import pandas as pd\n",
    "import numpy as np\n",
    "\n",
    "import seaborn as sns\n",
    "import matplotlib.pyplot as plt\n",
    "import matplotlib.dates as mdates\n",
    "%matplotlib inline"
   ]
  },
  {
   "cell_type": "markdown",
   "metadata": {},
   "source": [
    "## Datenimport\n",
    "Quelle der Daten: https://data.milwaukee.gov/dataset/property-sales-data"
   ]
  },
  {
   "cell_type": "code",
   "execution_count": 2,
   "metadata": {},
   "outputs": [],
   "source": [
    "FILEPATH_2020 = os.path.join(\"..\", \"input\", \"armslengthsales_2020_valid.csv\")\n",
    "FILEPATH_2021 = os.path.join(\"..\", \"input\", \"armslengthsales_2021_valid.csv\")\n",
    "FILEPATH_2022 = os.path.join(\"..\", \"input\", \"armslengthsales_2022_valid.csv\")"
   ]
  },
  {
   "cell_type": "code",
   "execution_count": 3,
   "metadata": {},
   "outputs": [],
   "source": [
    "df_2020 = pd.read_csv(FILEPATH_2020)\n",
    "df_2021 = pd.read_csv(FILEPATH_2021)\n",
    "df_2022 = pd.read_csv(FILEPATH_2022)"
   ]
  },
  {
   "cell_type": "code",
   "execution_count": 4,
   "metadata": {},
   "outputs": [],
   "source": [
    "#df = pd.concat([df_2020, df_2021, df_2022])\n",
    "df = df_2022"
   ]
  },
  {
   "cell_type": "markdown",
   "metadata": {},
   "source": [
    "## EDA"
   ]
  },
  {
   "cell_type": "markdown",
   "metadata": {},
   "source": [
    "### Beschreibung und Analyse des Datensatzes\n",
    "Der Datensatz beinhaltet Verkaufsdaten über Wohnhäuser, Eigentumswohnungen, Gewerbeimmobilien, Apartments und unbebaute Grundstücke. <br>\n",
    "<br>\n",
    "7146 Zeilen<br>\n",
    "8168 fehlende Werte<br>\n",
    "20 Variablen\n",
    "\n",
    "```PropertyID``` - Enthält die eindeutige ID der Immobilie  \n",
    "```PropType``` - Enthält den Typ der Immobilie - 6 verschiedene mit Anteil in %: 81,4% Residential (Wohnimmobilien), 13% Condominium (Eigentumswohnungen), 3% Large Apartment (Große Wohnungen), 2,6% Commercial (Gewerbeimmobilien), <0,1% Manufacturing (Produktionsstätten), <0,1% Exempt (Andere)  \n",
    "```taxkey``` - Enthält die eindeutige Steuerliche Kennung der Immobilie  \n",
    "```Address``` - Enthält die Adresse der Immobilie  \n",
    "```CondoProject``` - Nur für Condominium (Eigentumswohnungen) relevant - enthält einen Projektnamen  \n",
    "```District``` - Nummer des Districts (Stadtteil) von Milwaukee  \n",
    "```nbhd``` - Nummer der \"Nachbarschaft\" - vermutlich eine detaillierte Einteilung der Districts  \n",
    "```Style``` - Enthält die \"Art\" der Immobilie wie Ranch, Townhouse und Medical Clinic  \n",
    "```Extwall``` - Beschreibt die Außenverkleidung der Immobilie wie Aluminium/Vinyl, Wood (Holz) oder Bricks (Ziegel)  \n",
    "```Stories```- Enthält die Anzahl der Stockwerke der Immobilie  \n",
    "```Year_Built``` - Enthält das Baujahr der Immobilie  \n",
    "```Rooms``` - Enthält die Anzahl der Räume der Immobilie  \n",
    "```FinishedSqft``` - Beschreibt die Gesamtfläche in Quadrratfuß der Immobilie an 1 Quardratfuß = 0,092903 Quadratmeter  \n",
    "```Units``` - Enthält die Anzahl an Wohneineinheiten der Immobilie  \n",
    "```Bdrms``` - Enthält die Anzahl an Schlafzimmern der Immobilie  \n",
    "```Fbath``` - Enthält die Anzahl an \"Vollbädern\" (Badezimmer mit Badewanne/Dusche) der Immobilie  \n",
    "```Hbath``` - Enthält die Anzahl an \"Halbbädern\" (Badezimmer ohne Badewanne/Dusche) der Immobilie  \n",
    "```Lotsize``` - Enthält die Größe des Grundstücks, auf dem die Immobilie steht\n",
    "```Sale_date``` - Enthält das Datum, an dem die Immobilie verkauft wurde\n",
    "```Sale_prize```"
   ]
  },
  {
   "cell_type": "markdown",
   "metadata": {},
   "source": [
    "### Fehlende Werte prüfen und entfernen"
   ]
  },
  {
   "cell_type": "code",
   "execution_count": 34,
   "metadata": {},
   "outputs": [],
   "source": [
    "# Entfernen der irrelevanten Spalten\n",
    "df.drop('PropertyID', axis=1, inplace=True)\n",
    "df.drop('taxkey', axis=1, inplace=True)\n",
    "df.drop('Address', axis=1, inplace=True)\n",
    "df.drop('CondoProject', axis=1, inplace=True)"
   ]
  },
  {
   "cell_type": "code",
   "execution_count": 35,
   "metadata": {},
   "outputs": [
    {
     "data": {
      "text/plain": [
       "PropType          0\n",
       "District          0\n",
       "nbhd              0\n",
       "Style            21\n",
       "Extwall         926\n",
       "Stories          39\n",
       "Year_Built       11\n",
       "Rooms           443\n",
       "FinishedSqft     24\n",
       "Units             0\n",
       "Bdrms           443\n",
       "Fbath             0\n",
       "Hbath             0\n",
       "Lotsize           0\n",
       "Sale_date         0\n",
       "Sale_price        0\n",
       "dtype: int64"
      ]
     },
     "execution_count": 35,
     "metadata": {},
     "output_type": "execute_result"
    }
   ],
   "source": [
    "df.isnull().sum()"
   ]
  },
  {
   "cell_type": "markdown",
   "metadata": {},
   "source": [
    "### Hinzufügen neuer zeitlicher Variablen"
   ]
  },
  {
   "cell_type": "code",
   "execution_count": 43,
   "metadata": {},
   "outputs": [],
   "source": [
    "# Ersetzen des index durch die Spalte 'Sale_date'\n",
    "df.set_index('Sale_date', inplace=True)\n",
    "\n",
    "# Umwandeln des Datums in den Datentyp 'DatetimeIndex' \n",
    "df.index = pd.DatetimeIndex(df.index)\n",
    "\n",
    "# Hinzufügen zeitlicher Variablen (Jahr, Monat, Tag und Kalenderwoche und das Datum erneut als Spalte)\n",
    "df['Year'] = df.index.year\n",
    "df['Month'] = df.index.month\n",
    "df['Day'] = df.index.day\n",
    "df['WeekOfYear'] = df.index.isocalendar().week\n",
    "df['Sale_date'] = pd.to_datetime(df[['Year', 'Month', 'Day']])"
   ]
  }
 ],
 "metadata": {
  "kernelspec": {
   "display_name": "dbuas-applied-ds-2-ml-and-reporting-studienarbeit-dariusmix",
   "language": "python",
   "name": "python3"
  },
  "language_info": {
   "codemirror_mode": {
    "name": "ipython",
    "version": 3
   },
   "file_extension": ".py",
   "mimetype": "text/x-python",
   "name": "python",
   "nbconvert_exporter": "python",
   "pygments_lexer": "ipython3",
   "version": "3.11.8"
  }
 },
 "nbformat": 4,
 "nbformat_minor": 2
}
